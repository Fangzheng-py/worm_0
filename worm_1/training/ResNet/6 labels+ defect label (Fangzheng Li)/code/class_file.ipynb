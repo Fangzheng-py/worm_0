{
 "cells": [
  {
   "cell_type": "code",
   "execution_count": 1,
   "id": "da3fdc41",
   "metadata": {
    "id": "da3fdc41"
   },
   "outputs": [],
   "source": [
    "import os \n",
    "import shutil\n",
    "import random\n",
    "import pandas as pd"
   ]
  },
  {
   "cell_type": "code",
   "execution_count": 2,
   "id": "kXPL3aG4_jtI",
   "metadata": {
    "colab": {
     "base_uri": "https://localhost:8080/"
    },
    "id": "kXPL3aG4_jtI",
    "outputId": "d4a5b2df-acf4-4f01-acd1-beb3cf9dc127"
   },
   "outputs": [],
   "source": [
    "#from google.colab import drive\n",
    "#drive.mount('/content/drive')"
   ]
  },
  {
   "cell_type": "code",
   "execution_count": 5,
   "id": "f04bc232",
   "metadata": {
    "id": "f04bc232"
   },
   "outputs": [],
   "source": [
    "dataset_path = 'C:/Users/liFangzheng/Desktop/abnormal/'"
   ]
  },
  {
   "cell_type": "code",
   "execution_count": 6,
   "id": "240f149b",
   "metadata": {
    "id": "240f149b"
   },
   "outputs": [],
   "source": [
    "#remove the .DS_Store file\n",
    "\n",
    "def remove_ds_store(root_dir):\n",
    "    for root, dirs, files in os.walk(root_dir):\n",
    "        for file in files:\n",
    "            if file == '.DS_Store':\n",
    "                os.remove(os.path.join(root, file))\n",
    "        for dir in dirs:\n",
    "            remove_ds_store(os.path.join(root, dir))\n",
    "\n",
    "remove_ds_store(dataset_path)"
   ]
  },
  {
   "cell_type": "code",
   "execution_count": 7,
   "id": "f07cea20",
   "metadata": {
    "colab": {
     "base_uri": "https://localhost:8080/"
    },
    "id": "f07cea20",
    "outputId": "88bd369c-5af6-4f0f-a273-6fd2b0411614"
   },
   "outputs": [
    {
     "name": "stdout",
     "output_type": "stream",
     "text": [
      "dataset C:/Users/liFangzheng/Desktop/abnormal/\n"
     ]
    }
   ],
   "source": [
    "dataset_name = dataset_path.split('_')[0]\n",
    "print('dataset', dataset_name)"
   ]
  },
  {
   "cell_type": "code",
   "execution_count": 8,
   "id": "34d806b4",
   "metadata": {
    "id": "34d806b4"
   },
   "outputs": [],
   "source": [
    "classes = os.listdir(dataset_path)"
   ]
  },
  {
   "cell_type": "code",
   "execution_count": 9,
   "id": "e006ee0e",
   "metadata": {
    "colab": {
     "base_uri": "https://localhost:8080/"
    },
    "id": "e006ee0e",
    "outputId": "04c0dff8-12eb-40d6-aed8-3334b90025df"
   },
   "outputs": [
    {
     "data": {
      "text/plain": [
       "1"
      ]
     },
     "execution_count": 9,
     "metadata": {},
     "output_type": "execute_result"
    }
   ],
   "source": [
    "len(classes)"
   ]
  },
  {
   "cell_type": "code",
   "execution_count": 10,
   "id": "d24f365f",
   "metadata": {
    "colab": {
     "base_uri": "https://localhost:8080/"
    },
    "id": "d24f365f",
    "outputId": "766eaa5f-93e3-4e64-b00a-2b53fe645af0"
   },
   "outputs": [
    {
     "data": {
      "text/plain": [
       "['defect']"
      ]
     },
     "execution_count": 10,
     "metadata": {},
     "output_type": "execute_result"
    }
   ],
   "source": [
    "classes"
   ]
  },
  {
   "cell_type": "code",
   "execution_count": 11,
   "id": "272861c3",
   "metadata": {
    "id": "272861c3"
   },
   "outputs": [],
   "source": [
    "\n",
    "os.mkdir(os.path.join(dataset_path, 'train'))\n",
    "\n",
    "os.mkdir(os.path.join(dataset_path, 'val'))\n"
   ]
  },
  {
   "cell_type": "code",
   "execution_count": 15,
   "id": "c7c3cf0c",
   "metadata": {
    "id": "c7c3cf0c"
   },
   "outputs": [],
   "source": [
    "\n",
    "for fruit in classes:\n",
    "    os.mkdir(os.path.join(dataset_path, 'train', fruit))\n",
    "    os.mkdir(os.path.join(dataset_path, 'val', fruit))"
   ]
  },
  {
   "cell_type": "code",
   "execution_count": 16,
   "id": "36a0109e",
   "metadata": {
    "id": "36a0109e"
   },
   "outputs": [],
   "source": [
    "test_frac = 0.3  \n",
    "random.seed(27) \n"
   ]
  },
  {
   "cell_type": "code",
   "execution_count": null,
   "id": "ad36daae",
   "metadata": {},
   "outputs": [],
   "source": [
    "df = pd.DataFrame()\n",
    "print('{:^18} {:^18} {:^18}'.format('class', 'train_data_num', 'val_data_num'))\n",
    "\n",
    "for fruit in classes: \n",
    "    old_dir = os.path.join(dataset_path, fruit)\n",
    "    images_filename = os.listdir(old_dir)\n",
    "    random.shuffle(images_filename) \n",
    "\n",
    "   \n",
    "    testset_numer = int(len(images_filename) * test_frac) \n",
    "    testset_images = images_filename[:testset_numer]      \n",
    "    trainset_images = images_filename[testset_numer:]     \n",
    "\n",
    "    \n",
    "    for image in testset_images:\n",
    "        old_img_path = os.path.join(dataset_path, fruit, image)         \n",
    "        new_test_path = os.path.join(dataset_path, 'val', fruit, image) \n",
    "        shutil.move(old_img_path, new_test_path) \n",
    "\n",
    "    \n",
    "    for image in trainset_images:\n",
    "        old_img_path = os.path.join(dataset_path, fruit, image)           \n",
    "        new_train_path = os.path.join(dataset_path, 'train', fruit, image) \n",
    "        shutil.move(old_img_path, new_train_path) \n",
    "    \n",
    "    \n",
    "    assert len(os.listdir(old_dir)) == 0\n",
    "    shutil.rmtree(old_dir) \n",
    "    \n",
    "    \n",
    "    print('{:^18} {:^18} {:^18}'.format(fruit, len(trainset_images), len(testset_images)))\n",
    "    \n",
    "shutil.move(dataset_path, dataset_name+'_split')\n"
   ]
  },
  {
   "cell_type": "code",
   "execution_count": null,
   "id": "a4ad9d9b",
   "metadata": {
    "id": "a4ad9d9b"
   },
   "outputs": [],
   "source": []
  }
 ],
 "metadata": {
  "colab": {
   "provenance": []
  },
  "kernelspec": {
   "display_name": "Python 3 (ipykernel)",
   "language": "python",
   "name": "python3"
  },
  "language_info": {
   "codemirror_mode": {
    "name": "ipython",
    "version": 3
   },
   "file_extension": ".py",
   "mimetype": "text/x-python",
   "name": "python",
   "nbconvert_exporter": "python",
   "pygments_lexer": "ipython3",
   "version": "3.8.16"
  }
 },
 "nbformat": 4,
 "nbformat_minor": 5
}
