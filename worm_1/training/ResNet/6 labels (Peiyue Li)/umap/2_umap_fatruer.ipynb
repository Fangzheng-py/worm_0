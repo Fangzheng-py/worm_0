{
 "cells": [
  {
   "cell_type": "code",
   "execution_count": 1,
   "metadata": {
    "colab": {
     "base_uri": "https://localhost:8080/"
    },
    "id": "BsYMk8pYiLRC",
    "outputId": "5fc4827b-cf89-4ab2-f369-8fd30006936f"
   },
   "outputs": [
    {
     "name": "stdout",
     "output_type": "stream",
     "text": [
      "device cuda:0\n"
     ]
    }
   ],
   "source": [
    "import os\n",
    "from tqdm import tqdm\n",
    "\n",
    "import numpy as np\n",
    "import pandas as pd\n",
    "\n",
    "from PIL import Image\n",
    "\n",
    "import torch\n",
    "import torch.nn.functional as F\n",
    "\n",
    "device = torch.device('cuda:0' if torch.cuda.is_available() else 'cpu')\n",
    "print('device', device)"
   ]
  },
  {
   "cell_type": "code",
   "execution_count": 2,
   "metadata": {
    "id": "uMbiyPiTj1Q-"
   },
   "outputs": [],
   "source": [
    "from torchvision import transforms\n",
    "test_transform = transforms.Compose([\n",
    "                                     transforms.Grayscale(1),\n",
    "                                     #transforms.CenterCrop(224),\n",
    "                                     transforms.ToTensor(),\n",
    "                                     #transforms.Normalize([0.485, ], [0.229, ])\n",
    "                                     ])\n"
   ]
  },
  {
   "cell_type": "code",
   "execution_count": 3,
   "metadata": {
    "id": "6NFglAzHj7cG"
   },
   "outputs": [],
   "source": [
    "df = pd.read_csv('C:/Users/liFangzheng/Desktop/LI Peiyue/umap/umap_data/umap_profile.csv')\n"
   ]
  },
  {
   "cell_type": "code",
   "execution_count": 5,
   "metadata": {
    "id": "eH9JziknkGk0"
   },
   "outputs": [],
   "source": [
    "model = torch.load('C:/Users/liFangzheng/Desktop/LI Peiyue/save/best-0.964.pth')\n",
    "model = model.eval().to(device)"
   ]
  },
  {
   "cell_type": "code",
   "execution_count": 6,
   "metadata": {
    "id": "dyskDUNJkP3v"
   },
   "outputs": [],
   "source": [
    "from torchvision.models.feature_extraction import create_feature_extractor"
   ]
  },
  {
   "cell_type": "code",
   "execution_count": 7,
   "metadata": {
    "id": "IUb1r7y9kTMo"
   },
   "outputs": [],
   "source": [
    "model_trunc = create_feature_extractor(model, return_nodes={'avgpool': 'semantic_feature'})"
   ]
  },
  {
   "cell_type": "code",
   "execution_count": 8,
   "metadata": {
    "colab": {
     "base_uri": "https://localhost:8080/"
    },
    "id": "3HcoVBujkVAE",
    "outputId": "022db1ba-8768-41b0-fe71-dc9cf901194f"
   },
   "outputs": [
    {
     "name": "stderr",
     "output_type": "stream",
     "text": [
      "100%|███████████████████████████████████████████████████████████████████████████████| 664/664 [00:06<00:00, 101.44it/s]\n"
     ]
    }
   ],
   "source": [
    "\n",
    "encoding_array = []\n",
    "img_path_list = []\n",
    "\n",
    "for img_path in tqdm(df['path']):\n",
    "    img_path_list.append(img_path)\n",
    "    img_pil = Image.open(img_path)\n",
    "    input_img = test_transform(img_pil).unsqueeze(0).to(device) \n",
    "    feature = model_trunc(input_img)['semantic_feature'].squeeze().detach().cpu().numpy() \n",
    "    encoding_array.append(feature)\n",
    "encoding_array = np.array(encoding_array)"
   ]
  },
  {
   "cell_type": "code",
   "execution_count": 9,
   "metadata": {
    "colab": {
     "base_uri": "https://localhost:8080/"
    },
    "id": "gZ7Yh4PGkZHW",
    "outputId": "eb77e7a6-abbd-4cdb-8b47-9d9a5acc654e"
   },
   "outputs": [
    {
     "data": {
      "text/plain": [
       "(664, 512)"
      ]
     },
     "execution_count": 9,
     "metadata": {},
     "output_type": "execute_result"
    }
   ],
   "source": [
    "encoding_array.shape"
   ]
  },
  {
   "cell_type": "code",
   "execution_count": 10,
   "metadata": {
    "colab": {
     "base_uri": "https://localhost:8080/"
    },
    "id": "721wNiYxxg8m",
    "outputId": "df2f10ba-ae6e-4a3f-8fea-3487d559a138"
   },
   "outputs": [
    {
     "data": {
      "text/plain": [
       "array([[0.8174653 , 0.28499305, 1.1201572 , ..., 0.6347453 , 1.6766148 ,\n",
       "        1.065004  ],\n",
       "       [1.6769117 , 0.74230444, 1.7574161 , ..., 0.65568167, 2.0572786 ,\n",
       "        1.9267365 ],\n",
       "       [1.4911529 , 0.7535913 , 0.80893576, ..., 1.2474791 , 1.5025234 ,\n",
       "        1.7553607 ],\n",
       "       ...,\n",
       "       [1.5931678 , 2.1213508 , 2.5299962 , ..., 0.04556078, 0.23655722,\n",
       "        1.1093171 ],\n",
       "       [2.8854694 , 3.2155254 , 2.3882499 , ..., 0.13452935, 0.14327994,\n",
       "        2.115413  ],\n",
       "       [2.9337232 , 3.6421068 , 2.8412268 , ..., 0.10173308, 0.41182646,\n",
       "        1.880815  ]], dtype=float32)"
      ]
     },
     "execution_count": 10,
     "metadata": {},
     "output_type": "execute_result"
    }
   ],
   "source": [
    "encoding_array"
   ]
  },
  {
   "cell_type": "code",
   "execution_count": 11,
   "metadata": {
    "id": "0q2imnZyk3xI"
   },
   "outputs": [],
   "source": [
    "np.save('C:/Users/liFangzheng/Desktop/LI Peiyue/umap/umap_data/test_feature.npy', encoding_array)"
   ]
  },
  {
   "cell_type": "code",
   "execution_count": null,
   "metadata": {
    "id": "fsNVGcxzlG64"
   },
   "outputs": [],
   "source": []
  },
  {
   "cell_type": "code",
   "execution_count": null,
   "metadata": {},
   "outputs": [],
   "source": []
  }
 ],
 "metadata": {
  "accelerator": "GPU",
  "colab": {
   "provenance": []
  },
  "gpuClass": "standard",
  "kernelspec": {
   "display_name": "Python 3 (ipykernel)",
   "language": "python",
   "name": "python3"
  },
  "language_info": {
   "codemirror_mode": {
    "name": "ipython",
    "version": 3
   },
   "file_extension": ".py",
   "mimetype": "text/x-python",
   "name": "python",
   "nbconvert_exporter": "python",
   "pygments_lexer": "ipython3",
   "version": "3.8.16"
  }
 },
 "nbformat": 4,
 "nbformat_minor": 1
}
