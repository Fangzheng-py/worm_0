{
 "cells": [
  {
   "cell_type": "code",
   "execution_count": 2,
   "metadata": {
    "id": "TG7MSeQRlVXI"
   },
   "outputs": [],
   "source": [
    "import numpy as np\n",
    "import pandas as pd\n",
    "#import cv2"
   ]
  },
  {
   "cell_type": "code",
   "execution_count": 3,
   "metadata": {
    "colab": {
     "base_uri": "https://localhost:8080/"
    },
    "id": "_SlWNsmDlck1",
    "outputId": "28eabffc-0f3d-44b3-f8e2-2f31d1989877"
   },
   "outputs": [
    {
     "data": {
      "text/plain": [
       "(664, 512)"
      ]
     },
     "execution_count": 3,
     "metadata": {},
     "output_type": "execute_result"
    }
   ],
   "source": [
    "\n",
    "encoding_array = np.load('C:/Users/liFangzheng/Desktop/LI Peiyue/umap/umap_data/test_feature.npy', allow_pickle=True)\n",
    "encoding_array.shape"
   ]
  },
  {
   "cell_type": "code",
   "execution_count": 4,
   "metadata": {
    "colab": {
     "base_uri": "https://localhost:8080/"
    },
    "id": "YKefCkFpeemc",
    "outputId": "d2e1138a-e8c5-4472-e9ee-9ef1012c129f"
   },
   "outputs": [
    {
     "data": {
      "text/plain": [
       "array([[0.8174653 , 0.28499305, 1.1201572 , ..., 0.6347453 , 1.6766148 ,\n",
       "        1.065004  ],\n",
       "       [1.6769117 , 0.74230444, 1.7574161 , ..., 0.65568167, 2.0572786 ,\n",
       "        1.9267365 ],\n",
       "       [1.4911529 , 0.7535913 , 0.80893576, ..., 1.2474791 , 1.5025234 ,\n",
       "        1.7553607 ],\n",
       "       ...,\n",
       "       [1.5931678 , 2.1213508 , 2.5299962 , ..., 0.04556078, 0.23655722,\n",
       "        1.1093171 ],\n",
       "       [2.8854694 , 3.2155254 , 2.3882499 , ..., 0.13452935, 0.14327994,\n",
       "        2.115413  ],\n",
       "       [2.9337232 , 3.6421068 , 2.8412268 , ..., 0.10173308, 0.41182646,\n",
       "        1.880815  ]], dtype=float32)"
      ]
     },
     "execution_count": 4,
     "metadata": {},
     "output_type": "execute_result"
    }
   ],
   "source": [
    "encoding_array"
   ]
  },
  {
   "cell_type": "code",
   "execution_count": 5,
   "metadata": {
    "colab": {
     "base_uri": "https://localhost:8080/",
     "height": 679
    },
    "id": "wKgZmcVGliZT",
    "outputId": "0e8b0162-d36b-4c5c-d261-e4443d6128ed"
   },
   "outputs": [
    {
     "data": {
      "text/html": [
       "<div>\n",
       "<style scoped>\n",
       "    .dataframe tbody tr th:only-of-type {\n",
       "        vertical-align: middle;\n",
       "    }\n",
       "\n",
       "    .dataframe tbody tr th {\n",
       "        vertical-align: top;\n",
       "    }\n",
       "\n",
       "    .dataframe thead th {\n",
       "        text-align: right;\n",
       "    }\n",
       "</style>\n",
       "<table border=\"1\" class=\"dataframe\">\n",
       "  <thead>\n",
       "    <tr style=\"text-align: right;\">\n",
       "      <th></th>\n",
       "      <th>path</th>\n",
       "      <th>class_id</th>\n",
       "      <th>class_name</th>\n",
       "      <th>top-1-pre_ID</th>\n",
       "      <th>top-1-pre_name</th>\n",
       "      <th>top-2-pre_ID</th>\n",
       "      <th>top-2-pre_name</th>\n",
       "      <th>top-3-pre_ID</th>\n",
       "      <th>top-3-pre_name</th>\n",
       "      <th>top-4-pre_ID</th>\n",
       "      <th>top-4-pre_name</th>\n",
       "      <th>top-5-pre_ID</th>\n",
       "      <th>top-5-pre_name</th>\n",
       "      <th>top-n_corr</th>\n",
       "      <th>0-belive</th>\n",
       "      <th>1-belive</th>\n",
       "      <th>2-belive</th>\n",
       "      <th>3-belive</th>\n",
       "      <th>4-belive</th>\n",
       "      <th>5-belive</th>\n",
       "    </tr>\n",
       "  </thead>\n",
       "  <tbody>\n",
       "    <tr>\n",
       "      <th>0</th>\n",
       "      <td>C:/Users/liFangzheng/Desktop/LI Peiyue/embryo_...</td>\n",
       "      <td>0</td>\n",
       "      <td>1.5fold</td>\n",
       "      <td>0</td>\n",
       "      <td>1.5fold</td>\n",
       "      <td>2</td>\n",
       "      <td>dorsal intercalation</td>\n",
       "      <td>1</td>\n",
       "      <td>2fold</td>\n",
       "      <td>4</td>\n",
       "      <td>rotation</td>\n",
       "      <td>3</td>\n",
       "      <td>before intercalation</td>\n",
       "      <td>True</td>\n",
       "      <td>9.980260e-01</td>\n",
       "      <td>6.555512e-04</td>\n",
       "      <td>7.204728e-04</td>\n",
       "      <td>5.510004e-05</td>\n",
       "      <td>5.175763e-04</td>\n",
       "      <td>0.000025</td>\n",
       "    </tr>\n",
       "    <tr>\n",
       "      <th>1</th>\n",
       "      <td>C:/Users/liFangzheng/Desktop/LI Peiyue/embryo_...</td>\n",
       "      <td>0</td>\n",
       "      <td>1.5fold</td>\n",
       "      <td>0</td>\n",
       "      <td>1.5fold</td>\n",
       "      <td>4</td>\n",
       "      <td>rotation</td>\n",
       "      <td>1</td>\n",
       "      <td>2fold</td>\n",
       "      <td>5</td>\n",
       "      <td>ventral enclosure</td>\n",
       "      <td>2</td>\n",
       "      <td>dorsal intercalation</td>\n",
       "      <td>True</td>\n",
       "      <td>9.999291e-01</td>\n",
       "      <td>1.057919e-05</td>\n",
       "      <td>1.157298e-06</td>\n",
       "      <td>6.373507e-07</td>\n",
       "      <td>5.011945e-05</td>\n",
       "      <td>0.000008</td>\n",
       "    </tr>\n",
       "    <tr>\n",
       "      <th>2</th>\n",
       "      <td>C:/Users/liFangzheng/Desktop/LI Peiyue/embryo_...</td>\n",
       "      <td>0</td>\n",
       "      <td>1.5fold</td>\n",
       "      <td>0</td>\n",
       "      <td>1.5fold</td>\n",
       "      <td>4</td>\n",
       "      <td>rotation</td>\n",
       "      <td>1</td>\n",
       "      <td>2fold</td>\n",
       "      <td>5</td>\n",
       "      <td>ventral enclosure</td>\n",
       "      <td>3</td>\n",
       "      <td>before intercalation</td>\n",
       "      <td>True</td>\n",
       "      <td>9.958632e-01</td>\n",
       "      <td>1.486867e-03</td>\n",
       "      <td>2.383653e-06</td>\n",
       "      <td>1.703471e-05</td>\n",
       "      <td>2.582412e-03</td>\n",
       "      <td>0.000048</td>\n",
       "    </tr>\n",
       "    <tr>\n",
       "      <th>3</th>\n",
       "      <td>C:/Users/liFangzheng/Desktop/LI Peiyue/embryo_...</td>\n",
       "      <td>0</td>\n",
       "      <td>1.5fold</td>\n",
       "      <td>0</td>\n",
       "      <td>1.5fold</td>\n",
       "      <td>1</td>\n",
       "      <td>2fold</td>\n",
       "      <td>3</td>\n",
       "      <td>before intercalation</td>\n",
       "      <td>5</td>\n",
       "      <td>ventral enclosure</td>\n",
       "      <td>4</td>\n",
       "      <td>rotation</td>\n",
       "      <td>True</td>\n",
       "      <td>9.917194e-01</td>\n",
       "      <td>8.138932e-03</td>\n",
       "      <td>1.179242e-05</td>\n",
       "      <td>9.926267e-05</td>\n",
       "      <td>1.387213e-05</td>\n",
       "      <td>0.000017</td>\n",
       "    </tr>\n",
       "    <tr>\n",
       "      <th>4</th>\n",
       "      <td>C:/Users/liFangzheng/Desktop/LI Peiyue/embryo_...</td>\n",
       "      <td>0</td>\n",
       "      <td>1.5fold</td>\n",
       "      <td>0</td>\n",
       "      <td>1.5fold</td>\n",
       "      <td>1</td>\n",
       "      <td>2fold</td>\n",
       "      <td>4</td>\n",
       "      <td>rotation</td>\n",
       "      <td>3</td>\n",
       "      <td>before intercalation</td>\n",
       "      <td>5</td>\n",
       "      <td>ventral enclosure</td>\n",
       "      <td>True</td>\n",
       "      <td>9.993622e-01</td>\n",
       "      <td>6.214267e-04</td>\n",
       "      <td>1.697495e-06</td>\n",
       "      <td>2.802467e-06</td>\n",
       "      <td>9.397681e-06</td>\n",
       "      <td>0.000002</td>\n",
       "    </tr>\n",
       "    <tr>\n",
       "      <th>...</th>\n",
       "      <td>...</td>\n",
       "      <td>...</td>\n",
       "      <td>...</td>\n",
       "      <td>...</td>\n",
       "      <td>...</td>\n",
       "      <td>...</td>\n",
       "      <td>...</td>\n",
       "      <td>...</td>\n",
       "      <td>...</td>\n",
       "      <td>...</td>\n",
       "      <td>...</td>\n",
       "      <td>...</td>\n",
       "      <td>...</td>\n",
       "      <td>...</td>\n",
       "      <td>...</td>\n",
       "      <td>...</td>\n",
       "      <td>...</td>\n",
       "      <td>...</td>\n",
       "      <td>...</td>\n",
       "      <td>...</td>\n",
       "    </tr>\n",
       "    <tr>\n",
       "      <th>659</th>\n",
       "      <td>C:/Users/liFangzheng/Desktop/LI Peiyue/embryo_...</td>\n",
       "      <td>5</td>\n",
       "      <td>ventral enclosure</td>\n",
       "      <td>5</td>\n",
       "      <td>ventral enclosure</td>\n",
       "      <td>4</td>\n",
       "      <td>rotation</td>\n",
       "      <td>2</td>\n",
       "      <td>dorsal intercalation</td>\n",
       "      <td>0</td>\n",
       "      <td>1.5fold</td>\n",
       "      <td>3</td>\n",
       "      <td>before intercalation</td>\n",
       "      <td>True</td>\n",
       "      <td>1.663240e-03</td>\n",
       "      <td>1.843721e-07</td>\n",
       "      <td>3.796178e-03</td>\n",
       "      <td>1.344936e-05</td>\n",
       "      <td>4.128769e-01</td>\n",
       "      <td>0.581650</td>\n",
       "    </tr>\n",
       "    <tr>\n",
       "      <th>660</th>\n",
       "      <td>C:/Users/liFangzheng/Desktop/LI Peiyue/embryo_...</td>\n",
       "      <td>5</td>\n",
       "      <td>ventral enclosure</td>\n",
       "      <td>5</td>\n",
       "      <td>ventral enclosure</td>\n",
       "      <td>2</td>\n",
       "      <td>dorsal intercalation</td>\n",
       "      <td>4</td>\n",
       "      <td>rotation</td>\n",
       "      <td>0</td>\n",
       "      <td>1.5fold</td>\n",
       "      <td>3</td>\n",
       "      <td>before intercalation</td>\n",
       "      <td>True</td>\n",
       "      <td>9.429285e-06</td>\n",
       "      <td>3.993391e-08</td>\n",
       "      <td>1.262348e-03</td>\n",
       "      <td>2.252383e-06</td>\n",
       "      <td>4.370686e-05</td>\n",
       "      <td>0.998682</td>\n",
       "    </tr>\n",
       "    <tr>\n",
       "      <th>661</th>\n",
       "      <td>C:/Users/liFangzheng/Desktop/LI Peiyue/embryo_...</td>\n",
       "      <td>5</td>\n",
       "      <td>ventral enclosure</td>\n",
       "      <td>5</td>\n",
       "      <td>ventral enclosure</td>\n",
       "      <td>2</td>\n",
       "      <td>dorsal intercalation</td>\n",
       "      <td>4</td>\n",
       "      <td>rotation</td>\n",
       "      <td>0</td>\n",
       "      <td>1.5fold</td>\n",
       "      <td>3</td>\n",
       "      <td>before intercalation</td>\n",
       "      <td>True</td>\n",
       "      <td>1.047130e-04</td>\n",
       "      <td>3.059199e-08</td>\n",
       "      <td>2.934102e-04</td>\n",
       "      <td>1.117808e-06</td>\n",
       "      <td>2.177786e-04</td>\n",
       "      <td>0.999383</td>\n",
       "    </tr>\n",
       "    <tr>\n",
       "      <th>662</th>\n",
       "      <td>C:/Users/liFangzheng/Desktop/LI Peiyue/embryo_...</td>\n",
       "      <td>5</td>\n",
       "      <td>ventral enclosure</td>\n",
       "      <td>5</td>\n",
       "      <td>ventral enclosure</td>\n",
       "      <td>4</td>\n",
       "      <td>rotation</td>\n",
       "      <td>0</td>\n",
       "      <td>1.5fold</td>\n",
       "      <td>2</td>\n",
       "      <td>dorsal intercalation</td>\n",
       "      <td>3</td>\n",
       "      <td>before intercalation</td>\n",
       "      <td>True</td>\n",
       "      <td>5.574307e-06</td>\n",
       "      <td>7.244847e-11</td>\n",
       "      <td>6.330200e-08</td>\n",
       "      <td>2.119393e-08</td>\n",
       "      <td>2.395162e-04</td>\n",
       "      <td>0.999755</td>\n",
       "    </tr>\n",
       "    <tr>\n",
       "      <th>663</th>\n",
       "      <td>C:/Users/liFangzheng/Desktop/LI Peiyue/embryo_...</td>\n",
       "      <td>5</td>\n",
       "      <td>ventral enclosure</td>\n",
       "      <td>5</td>\n",
       "      <td>ventral enclosure</td>\n",
       "      <td>4</td>\n",
       "      <td>rotation</td>\n",
       "      <td>0</td>\n",
       "      <td>1.5fold</td>\n",
       "      <td>2</td>\n",
       "      <td>dorsal intercalation</td>\n",
       "      <td>3</td>\n",
       "      <td>before intercalation</td>\n",
       "      <td>True</td>\n",
       "      <td>1.999186e-07</td>\n",
       "      <td>1.073267e-11</td>\n",
       "      <td>1.744207e-09</td>\n",
       "      <td>3.988127e-10</td>\n",
       "      <td>4.271850e-07</td>\n",
       "      <td>0.999999</td>\n",
       "    </tr>\n",
       "  </tbody>\n",
       "</table>\n",
       "<p>664 rows × 20 columns</p>\n",
       "</div>"
      ],
      "text/plain": [
       "                                                  path  class_id   \n",
       "0    C:/Users/liFangzheng/Desktop/LI Peiyue/embryo_...         0  \\\n",
       "1    C:/Users/liFangzheng/Desktop/LI Peiyue/embryo_...         0   \n",
       "2    C:/Users/liFangzheng/Desktop/LI Peiyue/embryo_...         0   \n",
       "3    C:/Users/liFangzheng/Desktop/LI Peiyue/embryo_...         0   \n",
       "4    C:/Users/liFangzheng/Desktop/LI Peiyue/embryo_...         0   \n",
       "..                                                 ...       ...   \n",
       "659  C:/Users/liFangzheng/Desktop/LI Peiyue/embryo_...         5   \n",
       "660  C:/Users/liFangzheng/Desktop/LI Peiyue/embryo_...         5   \n",
       "661  C:/Users/liFangzheng/Desktop/LI Peiyue/embryo_...         5   \n",
       "662  C:/Users/liFangzheng/Desktop/LI Peiyue/embryo_...         5   \n",
       "663  C:/Users/liFangzheng/Desktop/LI Peiyue/embryo_...         5   \n",
       "\n",
       "            class_name  top-1-pre_ID     top-1-pre_name  top-2-pre_ID   \n",
       "0              1.5fold             0            1.5fold             2  \\\n",
       "1              1.5fold             0            1.5fold             4   \n",
       "2              1.5fold             0            1.5fold             4   \n",
       "3              1.5fold             0            1.5fold             1   \n",
       "4              1.5fold             0            1.5fold             1   \n",
       "..                 ...           ...                ...           ...   \n",
       "659  ventral enclosure             5  ventral enclosure             4   \n",
       "660  ventral enclosure             5  ventral enclosure             2   \n",
       "661  ventral enclosure             5  ventral enclosure             2   \n",
       "662  ventral enclosure             5  ventral enclosure             4   \n",
       "663  ventral enclosure             5  ventral enclosure             4   \n",
       "\n",
       "           top-2-pre_name  top-3-pre_ID        top-3-pre_name  top-4-pre_ID   \n",
       "0    dorsal intercalation             1                 2fold             4  \\\n",
       "1                rotation             1                 2fold             5   \n",
       "2                rotation             1                 2fold             5   \n",
       "3                   2fold             3  before intercalation             5   \n",
       "4                   2fold             4              rotation             3   \n",
       "..                    ...           ...                   ...           ...   \n",
       "659              rotation             2  dorsal intercalation             0   \n",
       "660  dorsal intercalation             4              rotation             0   \n",
       "661  dorsal intercalation             4              rotation             0   \n",
       "662              rotation             0               1.5fold             2   \n",
       "663              rotation             0               1.5fold             2   \n",
       "\n",
       "           top-4-pre_name  top-5-pre_ID        top-5-pre_name  top-n_corr   \n",
       "0                rotation             3  before intercalation        True  \\\n",
       "1       ventral enclosure             2  dorsal intercalation        True   \n",
       "2       ventral enclosure             3  before intercalation        True   \n",
       "3       ventral enclosure             4              rotation        True   \n",
       "4    before intercalation             5     ventral enclosure        True   \n",
       "..                    ...           ...                   ...         ...   \n",
       "659               1.5fold             3  before intercalation        True   \n",
       "660               1.5fold             3  before intercalation        True   \n",
       "661               1.5fold             3  before intercalation        True   \n",
       "662  dorsal intercalation             3  before intercalation        True   \n",
       "663  dorsal intercalation             3  before intercalation        True   \n",
       "\n",
       "         0-belive      1-belive      2-belive      3-belive      4-belive   \n",
       "0    9.980260e-01  6.555512e-04  7.204728e-04  5.510004e-05  5.175763e-04  \\\n",
       "1    9.999291e-01  1.057919e-05  1.157298e-06  6.373507e-07  5.011945e-05   \n",
       "2    9.958632e-01  1.486867e-03  2.383653e-06  1.703471e-05  2.582412e-03   \n",
       "3    9.917194e-01  8.138932e-03  1.179242e-05  9.926267e-05  1.387213e-05   \n",
       "4    9.993622e-01  6.214267e-04  1.697495e-06  2.802467e-06  9.397681e-06   \n",
       "..            ...           ...           ...           ...           ...   \n",
       "659  1.663240e-03  1.843721e-07  3.796178e-03  1.344936e-05  4.128769e-01   \n",
       "660  9.429285e-06  3.993391e-08  1.262348e-03  2.252383e-06  4.370686e-05   \n",
       "661  1.047130e-04  3.059199e-08  2.934102e-04  1.117808e-06  2.177786e-04   \n",
       "662  5.574307e-06  7.244847e-11  6.330200e-08  2.119393e-08  2.395162e-04   \n",
       "663  1.999186e-07  1.073267e-11  1.744207e-09  3.988127e-10  4.271850e-07   \n",
       "\n",
       "     5-belive  \n",
       "0    0.000025  \n",
       "1    0.000008  \n",
       "2    0.000048  \n",
       "3    0.000017  \n",
       "4    0.000002  \n",
       "..        ...  \n",
       "659  0.581650  \n",
       "660  0.998682  \n",
       "661  0.999383  \n",
       "662  0.999755  \n",
       "663  0.999999  \n",
       "\n",
       "[664 rows x 20 columns]"
      ]
     },
     "execution_count": 5,
     "metadata": {},
     "output_type": "execute_result"
    }
   ],
   "source": [
    "df = pd.read_csv('C:/Users/liFangzheng/Desktop/LI Peiyue/umap/umap_data/umap_profile.csv')\n",
    "df"
   ]
  },
  {
   "cell_type": "code",
   "execution_count": 6,
   "metadata": {
    "colab": {
     "base_uri": "https://localhost:8080/"
    },
    "id": "abXFL7DoltFg",
    "outputId": "8a00a0d0-d632-49e1-89f8-f1e8e1a24ff5"
   },
   "outputs": [
    {
     "name": "stdout",
     "output_type": "stream",
     "text": [
      "['1.5fold' '2fold' 'dorsal intercalation' 'before intercalation'\n",
      " 'rotation' 'ventral enclosure']\n"
     ]
    }
   ],
   "source": [
    "classes = df['class_name'].unique()\n",
    "print(classes)"
   ]
  },
  {
   "cell_type": "code",
   "execution_count": 7,
   "metadata": {
    "id": "clf_QGZyl1Q9"
   },
   "outputs": [],
   "source": [
    "import seaborn as sns\n",
    "marker_list = ['.', '.', '.', '.', '.', '.']\n",
    "#'1'"
   ]
  },
  {
   "cell_type": "code",
   "execution_count": 8,
   "metadata": {
    "colab": {
     "base_uri": "https://localhost:8080/"
    },
    "id": "D697aGVGl9hf",
    "outputId": "bc81ef1e-193b-4962-c18f-4b3195f76bbd"
   },
   "outputs": [
    {
     "data": {
      "text/plain": [
       "array(['1.5fold', '2fold', 'before intercalation', 'dorsal intercalation',\n",
       "       'rotation', 'ventral enclosure'], dtype=object)"
      ]
     },
     "execution_count": 8,
     "metadata": {},
     "output_type": "execute_result"
    }
   ],
   "source": [
    "class_list = np.unique(df['class_name'])\n",
    "class_list"
   ]
  },
  {
   "cell_type": "code",
   "execution_count": 9,
   "metadata": {
    "colab": {
     "base_uri": "https://localhost:8080/",
     "height": 118
    },
    "id": "dEvKmCWumLoD",
    "outputId": "25b8f599-1986-4be8-9403-090dd282abe0"
   },
   "outputs": [
    {
     "data": {
      "image/png": "[encoded data removed]",
      "text/plain": [
       "<Figure size 600x100 with 1 Axes>"
      ]
     },
     "metadata": {},
     "output_type": "display_data"
    }
   ],
   "source": [
    "n_class = len(class_list) # 测试集标签类别数\n",
    "palette = sns.hls_palette(n_class) # 配色方案\n",
    "sns.palplot(palette)"
   ]
  },
  {
   "cell_type": "code",
   "execution_count": 10,
   "metadata": {
    "id": "hAAy3ORdmN0r"
   },
   "outputs": [],
   "source": [
    "import random\n",
    "random.seed(27)\n",
    "random.shuffle(marker_list)\n",
    "random.shuffle(palette)"
   ]
  },
  {
   "cell_type": "code",
   "execution_count": 11,
   "metadata": {
    "id": "_-DF40xjmR7L"
   },
   "outputs": [
    {
     "name": "stderr",
     "output_type": "stream",
     "text": [
      "D:\\anaconda3\\envs\\pytorch\\lib\\site-packages\\umap\\distances.py:1063: NumbaDeprecationWarning: \u001b[1mThe 'nopython' keyword argument was not supplied to the 'numba.jit' decorator. The implicit default value for this argument is currently False, but it will be changed to True in Numba 0.59.0. See https://numba.readthedocs.io/en/stable/reference/deprecation.html#deprecation-of-object-mode-fall-back-behaviour-when-using-jit for details.\u001b[0m\n",
      "  @numba.jit()\n",
      "D:\\anaconda3\\envs\\pytorch\\lib\\site-packages\\umap\\distances.py:1071: NumbaDeprecationWarning: \u001b[1mThe 'nopython' keyword argument was not supplied to the 'numba.jit' decorator. The implicit default value for this argument is currently False, but it will be changed to True in Numba 0.59.0. See https://numba.readthedocs.io/en/stable/reference/deprecation.html#deprecation-of-object-mode-fall-back-behaviour-when-using-jit for details.\u001b[0m\n",
      "  @numba.jit()\n",
      "D:\\anaconda3\\envs\\pytorch\\lib\\site-packages\\umap\\distances.py:1086: NumbaDeprecationWarning: \u001b[1mThe 'nopython' keyword argument was not supplied to the 'numba.jit' decorator. The implicit default value for this argument is currently False, but it will be changed to True in Numba 0.59.0. See https://numba.readthedocs.io/en/stable/reference/deprecation.html#deprecation-of-object-mode-fall-back-behaviour-when-using-jit for details.\u001b[0m\n",
      "  @numba.jit()\n",
      "D:\\anaconda3\\envs\\pytorch\\lib\\site-packages\\tqdm\\auto.py:21: TqdmWarning: IProgress not found. Please update jupyter and ipywidgets. See https://ipywidgets.readthedocs.io/en/stable/user_install.html\n",
      "  from .autonotebook import tqdm as notebook_tqdm\n",
      "D:\\anaconda3\\envs\\pytorch\\lib\\site-packages\\umap\\umap_.py:660: NumbaDeprecationWarning: \u001b[1mThe 'nopython' keyword argument was not supplied to the 'numba.jit' decorator. The implicit default value for this argument is currently False, but it will be changed to True in Numba 0.59.0. See https://numba.readthedocs.io/en/stable/reference/deprecation.html#deprecation-of-object-mode-fall-back-behaviour-when-using-jit for details.\u001b[0m\n",
      "  @numba.jit()\n",
      "D:\\anaconda3\\envs\\pytorch\\lib\\site-packages\\umap\\plot.py:203: NumbaDeprecationWarning: \u001b[1mThe 'nopython' keyword argument was not supplied to the 'numba.jit' decorator. The implicit default value for this argument is currently False, but it will be changed to True in Numba 0.59.0. See https://numba.readthedocs.io/en/stable/reference/deprecation.html#deprecation-of-object-mode-fall-back-behaviour-when-using-jit for details.\u001b[0m\n",
      "  @numba.jit()\n"
     ]
    }
   ],
   "source": [
    "import umap\n",
    "import umap.plot"
   ]
  },
  {
   "cell_type": "code",
   "execution_count": 12,
   "metadata": {
    "id": "ORh4qLfvnCRW"
   },
   "outputs": [],
   "source": [
    "import matplotlib\n",
    "import matplotlib.pyplot as plt"
   ]
  },
  {
   "cell_type": "code",
   "execution_count": 21,
   "metadata": {
    "id": "rk4gKh6OmT_n"
   },
   "outputs": [],
   "source": [
    "mapper = umap.UMAP(n_neighbors=7, n_components=2,min_dist=0.1, random_state=26).fit(encoding_array)"
   ]
  },
  {
   "cell_type": "code",
   "execution_count": 22,
   "metadata": {},
   "outputs": [
    {
     "data": {
      "text/html": [
       "<style>#sk-container-id-2 {color: black;background-color: white;}#sk-container-id-2 pre{padding: 0;}#sk-container-id-2 div.sk-toggleable {background-color: white;}#sk-container-id-2 label.sk-toggleable__label {cursor: pointer;display: block;width: 100%;margin-bottom: 0;padding: 0.3em;box-sizing: border-box;text-align: center;}#sk-container-id-2 label.sk-toggleable__label-arrow:before {content: \"▸\";float: left;margin-right: 0.25em;color: #696969;}#sk-container-id-2 label.sk-toggleable__label-arrow:hover:before {color: black;}#sk-container-id-2 div.sk-estimator:hover label.sk-toggleable__label-arrow:before {color: black;}#sk-container-id-2 div.sk-toggleable__content {max-height: 0;max-width: 0;overflow: hidden;text-align: left;background-color: #f0f8ff;}#sk-container-id-2 div.sk-toggleable__content pre {margin: 0.2em;color: black;border-radius: 0.25em;background-color: #f0f8ff;}#sk-container-id-2 input.sk-toggleable__control:checked~div.sk-toggleable__content {max-height: 200px;max-width: 100%;overflow: auto;}#sk-container-id-2 input.sk-toggleable__control:checked~label.sk-toggleable__label-arrow:before {content: \"▾\";}#sk-container-id-2 div.sk-estimator input.sk-toggleable__control:checked~label.sk-toggleable__label {background-color: #d4ebff;}#sk-container-id-2 div.sk-label input.sk-toggleable__control:checked~label.sk-toggleable__label {background-color: #d4ebff;}#sk-container-id-2 input.sk-hidden--visually {border: 0;clip: rect(1px 1px 1px 1px);clip: rect(1px, 1px, 1px, 1px);height: 1px;margin: -1px;overflow: hidden;padding: 0;position: absolute;width: 1px;}#sk-container-id-2 div.sk-estimator {font-family: monospace;background-color: #f0f8ff;border: 1px dotted black;border-radius: 0.25em;box-sizing: border-box;margin-bottom: 0.5em;}#sk-container-id-2 div.sk-estimator:hover {background-color: #d4ebff;}#sk-container-id-2 div.sk-parallel-item::after {content: \"\";width: 100%;border-bottom: 1px solid gray;flex-grow: 1;}#sk-container-id-2 div.sk-label:hover label.sk-toggleable__label {background-color: #d4ebff;}#sk-container-id-2 div.sk-serial::before {content: \"\";position: absolute;border-left: 1px solid gray;box-sizing: border-box;top: 0;bottom: 0;left: 50%;z-index: 0;}#sk-container-id-2 div.sk-serial {display: flex;flex-direction: column;align-items: center;background-color: white;padding-right: 0.2em;padding-left: 0.2em;position: relative;}#sk-container-id-2 div.sk-item {position: relative;z-index: 1;}#sk-container-id-2 div.sk-parallel {display: flex;align-items: stretch;justify-content: center;background-color: white;position: relative;}#sk-container-id-2 div.sk-item::before, #sk-container-id-2 div.sk-parallel-item::before {content: \"\";position: absolute;border-left: 1px solid gray;box-sizing: border-box;top: 0;bottom: 0;left: 50%;z-index: -1;}#sk-container-id-2 div.sk-parallel-item {display: flex;flex-direction: column;z-index: 1;position: relative;background-color: white;}#sk-container-id-2 div.sk-parallel-item:first-child::after {align-self: flex-end;width: 50%;}#sk-container-id-2 div.sk-parallel-item:last-child::after {align-self: flex-start;width: 50%;}#sk-container-id-2 div.sk-parallel-item:only-child::after {width: 0;}#sk-container-id-2 div.sk-dashed-wrapped {border: 1px dashed gray;margin: 0 0.4em 0.5em 0.4em;box-sizing: border-box;padding-bottom: 0.4em;background-color: white;}#sk-container-id-2 div.sk-label label {font-family: monospace;font-weight: bold;display: inline-block;line-height: 1.2em;}#sk-container-id-2 div.sk-label-container {text-align: center;}#sk-container-id-2 div.sk-container {/* jupyter's `normalize.less` sets `[hidden] { display: none; }` but bootstrap.min.css set `[hidden] { display: none !important; }` so we also need the `!important` here to be able to override the default hidden behavior on the sphinx rendered scikit-learn.org. See: https://github.com/scikit-learn/scikit-learn/issues/21755 */display: inline-block !important;position: relative;}#sk-container-id-2 div.sk-text-repr-fallback {display: none;}</style><div id=\"sk-container-id-2\" class=\"sk-top-container\"><div class=\"sk-text-repr-fallback\"><pre>UMAP(n_neighbors=7, random_state=26, tqdm_kwds={&#x27;bar_format&#x27;: &#x27;{desc}: {percentage:3.0f}%| {bar} {n_fmt}/{total_fmt} [{elapsed}]&#x27;, &#x27;desc&#x27;: &#x27;Epochs completed&#x27;, &#x27;disable&#x27;: True})</pre><b>In a Jupyter environment, please rerun this cell to show the HTML representation or trust the notebook. <br />On GitHub, the HTML representation is unable to render, please try loading this page with nbviewer.org.</b></div><div class=\"sk-container\" hidden><div class=\"sk-item\"><div class=\"sk-estimator sk-toggleable\"><input class=\"sk-toggleable__control sk-hidden--visually\" id=\"sk-estimator-id-2\" type=\"checkbox\" checked><label for=\"sk-estimator-id-2\" class=\"sk-toggleable__label sk-toggleable__label-arrow\">UMAP</label><div class=\"sk-toggleable__content\"><pre>UMAP(n_neighbors=7, random_state=26, tqdm_kwds={&#x27;bar_format&#x27;: &#x27;{desc}: {percentage:3.0f}%| {bar} {n_fmt}/{total_fmt} [{elapsed}]&#x27;, &#x27;desc&#x27;: &#x27;Epochs completed&#x27;, &#x27;disable&#x27;: True})</pre></div></div></div></div></div>"
      ],
      "text/plain": [
       "UMAP(n_neighbors=7, random_state=26, tqdm_kwds={'bar_format': '{desc}: {percentage:3.0f}%| {bar} {n_fmt}/{total_fmt} [{elapsed}]', 'desc': 'Epochs completed', 'disable': True})"
      ]
     },
     "execution_count": 22,
     "metadata": {},
     "output_type": "execute_result"
    }
   ],
   "source": [
    "mapper"
   ]
  },
  {
   "cell_type": "code",
   "execution_count": 23,
   "metadata": {
    "colab": {
     "base_uri": "https://localhost:8080/"
    },
    "id": "8OeWMMtgmn3I",
    "outputId": "4b46512e-6649-4bf5-d850-b107543771d1"
   },
   "outputs": [
    {
     "data": {
      "text/plain": [
       "(664, 2)"
      ]
     },
     "execution_count": 23,
     "metadata": {},
     "output_type": "execute_result"
    }
   ],
   "source": [
    "mapper.embedding_.shape"
   ]
  },
  {
   "cell_type": "code",
   "execution_count": 24,
   "metadata": {},
   "outputs": [
    {
     "data": {
      "text/plain": [
       "array([[10.892275  ,  5.130394  ],\n",
       "       [12.024328  ,  3.861292  ],\n",
       "       [11.499201  ,  4.0355377 ],\n",
       "       ...,\n",
       "       [ 1.1267673 , -0.09615619],\n",
       "       [ 0.9904475 , -2.1279204 ],\n",
       "       [ 0.5999008 , -1.8404016 ]], dtype=float32)"
      ]
     },
     "execution_count": 24,
     "metadata": {},
     "output_type": "execute_result"
    }
   ],
   "source": [
    "mapper.embedding_"
   ]
  },
  {
   "cell_type": "code",
   "execution_count": 25,
   "metadata": {
    "id": "jPu6wb1fmsUf"
   },
   "outputs": [],
   "source": [
    "X_umap_2d = mapper.embedding_"
   ]
  },
  {
   "cell_type": "code",
   "execution_count": 26,
   "metadata": {
    "colab": {
     "base_uri": "https://localhost:8080/"
    },
    "id": "aOIm4AlnmuSQ",
    "outputId": "81d7a253-bd7d-4327-f7c1-f542fc02f125"
   },
   "outputs": [
    {
     "data": {
      "text/plain": [
       "(664, 2)"
      ]
     },
     "execution_count": 26,
     "metadata": {},
     "output_type": "execute_result"
    }
   ],
   "source": [
    "X_umap_2d.shape"
   ]
  },
  {
   "cell_type": "code",
   "execution_count": 27,
   "metadata": {
    "id": "-5vjPopTmw4e"
   },
   "outputs": [],
   "source": [
    "show_feature = 'class_name'"
   ]
  },
  {
   "cell_type": "code",
   "execution_count": 28,
   "metadata": {
    "colab": {
     "base_uri": "https://localhost:8080/",
     "height": 807
    },
    "id": "YAVWtFzPm02M",
    "outputId": "7ef08df2-7e19-408e-83d1-f32b7792537f"
   },
   "outputs": [
    {
     "name": "stdout",
     "output_type": "stream",
     "text": [
      "(array([  0,   1,   2,   3,   4,   5,   6,   7,   8,   9,  10,  11,  12,\n",
      "        13,  14,  15,  16,  17,  18,  19,  20,  21,  22,  23,  24,  25,\n",
      "        26,  27,  28,  29,  30,  31,  32,  33,  34,  35,  36,  37,  38,\n",
      "        39,  40,  41,  42,  43,  44,  45,  46,  47,  48,  49,  50,  51,\n",
      "        52,  53,  54,  55,  56,  57,  58,  59,  60,  61,  62,  63,  64,\n",
      "        65,  66,  67,  68,  69,  70,  71,  72,  73,  74,  75,  76,  77,\n",
      "        78,  79,  80,  81,  82,  83,  84,  85,  86,  87,  88,  89,  90,\n",
      "        91,  92,  93,  94,  95,  96,  97,  98,  99, 100, 101, 102, 103,\n",
      "       104, 105, 106, 107, 108, 109, 110, 111, 112, 113], dtype=int64),)\n",
      "(array([114, 115, 116, 117, 118, 119, 120, 121, 122, 123, 124, 125, 126,\n",
      "       127, 128, 129, 130, 131, 132, 133, 134, 135, 136, 137, 138, 139,\n",
      "       140, 141, 142, 143, 144, 145, 146, 147, 148, 149, 150, 151, 152,\n",
      "       153, 154, 155, 156, 157, 158, 159, 160, 161, 162, 163, 164, 165,\n",
      "       166, 167, 168, 169, 170, 171, 172, 173, 174, 175, 176, 177, 178,\n",
      "       179, 180, 181, 182, 183, 184, 185, 186, 187, 188, 189, 190, 191,\n",
      "       192, 193, 194, 195, 196, 197, 198, 199, 200, 201, 202, 203, 204,\n",
      "       205, 206, 207, 208, 209, 210, 211, 212, 213, 214, 215, 216, 217,\n",
      "       218, 219, 220, 221, 222, 223, 224, 225, 226, 227, 228, 229, 230,\n",
      "       231], dtype=int64),)\n",
      "(array([334, 335, 336, 337, 338, 339, 340, 341, 342, 343, 344, 345, 346,\n",
      "       347, 348, 349, 350, 351, 352, 353, 354, 355, 356, 357, 358, 359,\n",
      "       360, 361, 362, 363, 364, 365, 366, 367, 368, 369, 370, 371, 372,\n",
      "       373, 374, 375, 376, 377, 378, 379, 380, 381, 382, 383, 384, 385,\n",
      "       386, 387, 388, 389, 390, 391, 392, 393, 394, 395, 396, 397, 398,\n",
      "       399, 400, 401, 402, 403, 404, 405, 406, 407, 408, 409, 410, 411,\n",
      "       412, 413, 414, 415, 416, 417, 418, 419, 420, 421, 422, 423, 424,\n",
      "       425, 426, 427, 428, 429, 430, 431, 432, 433, 434, 435, 436, 437,\n",
      "       438, 439, 440, 441, 442, 443, 444, 445, 446, 447, 448], dtype=int64),)\n",
      "(array([232, 233, 234, 235, 236, 237, 238, 239, 240, 241, 242, 243, 244,\n",
      "       245, 246, 247, 248, 249, 250, 251, 252, 253, 254, 255, 256, 257,\n",
      "       258, 259, 260, 261, 262, 263, 264, 265, 266, 267, 268, 269, 270,\n",
      "       271, 272, 273, 274, 275, 276, 277, 278, 279, 280, 281, 282, 283,\n",
      "       284, 285, 286, 287, 288, 289, 290, 291, 292, 293, 294, 295, 296,\n",
      "       297, 298, 299, 300, 301, 302, 303, 304, 305, 306, 307, 308, 309,\n",
      "       310, 311, 312, 313, 314, 315, 316, 317, 318, 319, 320, 321, 322,\n",
      "       323, 324, 325, 326, 327, 328, 329, 330, 331, 332, 333], dtype=int64),)\n",
      "(array([449, 450, 451, 452, 453, 454, 455, 456, 457, 458, 459, 460, 461,\n",
      "       462, 463, 464, 465, 466, 467, 468, 469, 470, 471, 472, 473, 474,\n",
      "       475, 476, 477, 478, 479, 480, 481, 482, 483, 484, 485, 486, 487,\n",
      "       488, 489, 490, 491, 492, 493, 494, 495, 496, 497, 498, 499, 500,\n",
      "       501, 502, 503, 504, 505, 506, 507, 508, 509, 510, 511, 512, 513,\n",
      "       514, 515, 516, 517, 518, 519, 520, 521, 522, 523, 524, 525, 526,\n",
      "       527, 528, 529, 530, 531, 532, 533, 534, 535, 536, 537, 538, 539,\n",
      "       540, 541, 542, 543, 544, 545, 546, 547, 548, 549, 550, 551, 552,\n",
      "       553, 554, 555, 556, 557, 558, 559, 560, 561, 562, 563, 564, 565,\n",
      "       566, 567, 568], dtype=int64),)\n",
      "(array([569, 570, 571, 572, 573, 574, 575, 576, 577, 578, 579, 580, 581,\n",
      "       582, 583, 584, 585, 586, 587, 588, 589, 590, 591, 592, 593, 594,\n",
      "       595, 596, 597, 598, 599, 600, 601, 602, 603, 604, 605, 606, 607,\n",
      "       608, 609, 610, 611, 612, 613, 614, 615, 616, 617, 618, 619, 620,\n",
      "       621, 622, 623, 624, 625, 626, 627, 628, 629, 630, 631, 632, 633,\n",
      "       634, 635, 636, 637, 638, 639, 640, 641, 642, 643, 644, 645, 646,\n",
      "       647, 648, 649, 650, 651, 652, 653, 654, 655, 656, 657, 658, 659,\n",
      "       660, 661, 662, 663], dtype=int64),)\n"
     ]
    },
    {
     "data": {
      "image/png": "[encoded data removed]",
      "text/plain": [
       "<Figure size 1000x1000 with 1 Axes>"
      ]
     },
     "metadata": {},
     "output_type": "display_data"
    }
   ],
   "source": [
    "plt.figure(figsize=(10, 10))\n",
    "for idx, fruit in enumerate(class_list): \n",
    "   \n",
    "    color = palette[idx]\n",
    "    marker = marker_list[idx%len(marker_list)]\n",
    "\n",
    "    \n",
    "    indices = np.where(df[show_feature]==fruit)\n",
    "    print(indices)\n",
    "    plt.scatter(X_umap_2d[indices, 0], X_umap_2d[indices, 1], color=color, marker=marker, label=fruit, s=150)\n",
    "\n",
    "plt.legend(fontsize=16, markerscale=1, bbox_to_anchor=(1, 1))\n",
    "plt.xticks([])\n",
    "plt.yticks([])\n",
    "plt.savefig('C:/Users/liFangzheng/Desktop/LI Peiyue/umap/umap_data/UMAP.jpeg', dpi=300) \n",
    "plt.show()"
   ]
  },
  {
   "cell_type": "code",
   "execution_count": null,
   "metadata": {
    "id": "Yh0NX52YnY0t"
   },
   "outputs": [],
   "source": []
  }
 ],
 "metadata": {
  "colab": {
   "provenance": []
  },
  "kernelspec": {
   "display_name": "Python 3 (ipykernel)",
   "language": "python",
   "name": "python3"
  },
  "language_info": {
   "codemirror_mode": {
    "name": "ipython",
    "version": 3
   },
   "file_extension": ".py",
   "mimetype": "text/x-python",
   "name": "python",
   "nbconvert_exporter": "python",
   "pygments_lexer": "ipython3",
   "version": "3.8.16"
  }
 },
 "nbformat": 4,
 "nbformat_minor": 1
}
