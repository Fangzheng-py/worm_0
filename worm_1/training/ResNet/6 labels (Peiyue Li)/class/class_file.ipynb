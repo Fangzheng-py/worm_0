{
 "cells": [
  {
   "cell_type": "code",
   "execution_count": 1,
   "id": "da3fdc41",
   "metadata": {
    "id": "da3fdc41"
   },
   "outputs": [],
   "source": [
    "import os \n",
    "import shutil\n",
    "import random\n",
    "import pandas as pd"
   ]
  },
  {
   "cell_type": "code",
   "execution_count": 2,
   "id": "kXPL3aG4_jtI",
   "metadata": {
    "colab": {
     "base_uri": "https://localhost:8080/"
    },
    "id": "kXPL3aG4_jtI",
    "outputId": "d4a5b2df-acf4-4f01-acd1-beb3cf9dc127"
   },
   "outputs": [],
   "source": [
    "#from google.colab import drive\n",
    "#drive.mount('/content/drive')"
   ]
  },
  {
   "cell_type": "code",
   "execution_count": 3,
   "id": "f04bc232",
   "metadata": {
    "id": "f04bc232"
   },
   "outputs": [],
   "source": [
    "dataset_path = 'C:/Users/liFangzheng/Desktop/embryo/'"
   ]
  },
  {
   "cell_type": "code",
   "execution_count": 4,
   "id": "240f149b",
   "metadata": {
    "id": "240f149b"
   },
   "outputs": [],
   "source": [
    "\n",
    "def remove_ds_store(root_dir):\n",
    "    for root, dirs, files in os.walk(root_dir):\n",
    "        for file in files:\n",
    "            if file == '.DS_Store':\n",
    "                os.remove(os.path.join(root, file))\n",
    "        for dir in dirs:\n",
    "            remove_ds_store(os.path.join(root, dir))\n",
    "\n",
    "remove_ds_store(dataset_path)"
   ]
  },
  {
   "cell_type": "code",
   "execution_count": 5,
   "id": "f07cea20",
   "metadata": {
    "colab": {
     "base_uri": "https://localhost:8080/"
    },
    "id": "f07cea20",
    "outputId": "88bd369c-5af6-4f0f-a273-6fd2b0411614"
   },
   "outputs": [
    {
     "name": "stdout",
     "output_type": "stream",
     "text": [
      "dataset C:/Users/liFangzheng/Desktop/embryo/\n"
     ]
    }
   ],
   "source": [
    "dataset_name = dataset_path.split('_')[0]\n",
    "print('dataset', dataset_name)"
   ]
  },
  {
   "cell_type": "code",
   "execution_count": 6,
   "id": "34d806b4",
   "metadata": {
    "id": "34d806b4"
   },
   "outputs": [],
   "source": [
    "classes = os.listdir(dataset_path)"
   ]
  },
  {
   "cell_type": "code",
   "execution_count": 7,
   "id": "e006ee0e",
   "metadata": {
    "colab": {
     "base_uri": "https://localhost:8080/"
    },
    "id": "e006ee0e",
    "outputId": "04c0dff8-12eb-40d6-aed8-3334b90025df"
   },
   "outputs": [
    {
     "data": {
      "text/plain": [
       "6"
      ]
     },
     "execution_count": 7,
     "metadata": {},
     "output_type": "execute_result"
    }
   ],
   "source": [
    "len(classes)"
   ]
  },
  {
   "cell_type": "code",
   "execution_count": 8,
   "id": "d24f365f",
   "metadata": {
    "colab": {
     "base_uri": "https://localhost:8080/"
    },
    "id": "d24f365f",
    "outputId": "766eaa5f-93e3-4e64-b00a-2b53fe645af0"
   },
   "outputs": [
    {
     "data": {
      "text/plain": [
       "['1.5fold',\n",
       " '2fold',\n",
       " 'dorsal arrange',\n",
       " 'gastrulation',\n",
       " 'rotation',\n",
       " 'ventral enclosure']"
      ]
     },
     "execution_count": 8,
     "metadata": {},
     "output_type": "execute_result"
    }
   ],
   "source": [
    "classes"
   ]
  },
  {
   "cell_type": "code",
   "execution_count": 9,
   "id": "272861c3",
   "metadata": {
    "id": "272861c3"
   },
   "outputs": [],
   "source": [
    "\n",
    "os.mkdir(os.path.join(dataset_path, 'train'))\n",
    "\n",
    "os.mkdir(os.path.join(dataset_path, 'val'))\n"
   ]
  },
  {
   "cell_type": "code",
   "execution_count": 13,
   "id": "c7c3cf0c",
   "metadata": {
    "id": "c7c3cf0c"
   },
   "outputs": [],
   "source": [
    "\n",
    "for fruit in classes:\n",
    "    os.mkdir(os.path.join(dataset_path, 'train', fruit))\n",
    "    os.mkdir(os.path.join(dataset_path, 'val', fruit))"
   ]
  },
  {
   "cell_type": "code",
   "execution_count": 14,
   "id": "36a0109e",
   "metadata": {
    "id": "36a0109e"
   },
   "outputs": [],
   "source": [
    "test_frac = 0.3  \n",
    "random.seed(27) "
   ]
  },
  {
   "cell_type": "code",
   "execution_count": 15,
   "id": "a8cc0cec",
   "metadata": {
    "colab": {
     "base_uri": "https://localhost:8080/"
    },
    "id": "a8cc0cec",
    "outputId": "5633cc88-fa77-4a19-fc11-26989c9d384b",
    "scrolled": true
   },
   "outputs": [
    {
     "name": "stdout",
     "output_type": "stream",
     "text": [
      "      class          train_data_num      val_data_num   \n",
      "     1.5fold              274                117        \n",
      "      2fold               280                120        \n",
      "  dorsal arrange          261                111        \n",
      "   gastrulation           282                120        \n",
      "     rotation             271                115        \n",
      "ventral enclosure         259                110        \n"
     ]
    },
    {
     "ename": "Error",
     "evalue": "Cannot move a directory 'C:/Users/liFangzheng/Desktop/embryo/' into itself 'C:/Users/liFangzheng/Desktop/embryo/_split'.",
     "output_type": "error",
     "traceback": [
      "\u001b[1;31m---------------------------------------------------------------------------\u001b[0m",
      "\u001b[1;31mOSError\u001b[0m                                   Traceback (most recent call last)",
      "File \u001b[1;32mD:\\anaconda3\\envs\\pytorch\\lib\\shutil.py:791\u001b[0m, in \u001b[0;36mmove\u001b[1;34m(src, dst, copy_function)\u001b[0m\n\u001b[0;32m    790\u001b[0m \u001b[38;5;28;01mtry\u001b[39;00m:\n\u001b[1;32m--> 791\u001b[0m     \u001b[43mos\u001b[49m\u001b[38;5;241;43m.\u001b[39;49m\u001b[43mrename\u001b[49m\u001b[43m(\u001b[49m\u001b[43msrc\u001b[49m\u001b[43m,\u001b[49m\u001b[43m \u001b[49m\u001b[43mreal_dst\u001b[49m\u001b[43m)\u001b[49m\n\u001b[0;32m    792\u001b[0m \u001b[38;5;28;01mexcept\u001b[39;00m \u001b[38;5;167;01mOSError\u001b[39;00m:\n",
      "\u001b[1;31mOSError\u001b[0m: [WinError 87] 参数错误。: 'C:/Users/liFangzheng/Desktop/embryo/' -> 'C:/Users/liFangzheng/Desktop/embryo/_split'",
      "\nDuring handling of the above exception, another exception occurred:\n",
      "\u001b[1;31mError\u001b[0m                                     Traceback (most recent call last)",
      "Cell \u001b[1;32mIn[15], line 39\u001b[0m\n\u001b[0;32m     33\u001b[0m     \u001b[38;5;28mprint\u001b[39m(\u001b[38;5;124m'\u001b[39m\u001b[38;5;132;01m{:^18}\u001b[39;00m\u001b[38;5;124m \u001b[39m\u001b[38;5;132;01m{:^18}\u001b[39;00m\u001b[38;5;124m \u001b[39m\u001b[38;5;132;01m{:^18}\u001b[39;00m\u001b[38;5;124m'\u001b[39m\u001b[38;5;241m.\u001b[39mformat(fruit, \u001b[38;5;28mlen\u001b[39m(trainset_images), \u001b[38;5;28mlen\u001b[39m(testset_images)))\n\u001b[0;32m     35\u001b[0m     \u001b[38;5;66;03m# 保存到表格中\u001b[39;00m\n\u001b[0;32m     36\u001b[0m     \u001b[38;5;66;03m#df = df.append({'class':fruit, 'trainset':len(trainset_images), 'testset':len(testset_images)}, ignore_index=True)\u001b[39;00m\n\u001b[0;32m     37\u001b[0m    \u001b[38;5;66;03m# df = df.append({'class': fruit, 'trainset': len(trainset_images), 'testset': len(testset_images)}, ignore_index=True)\u001b[39;00m\n\u001b[0;32m     38\u001b[0m \u001b[38;5;66;03m# 重命名数据集文件夹\u001b[39;00m\n\u001b[1;32m---> 39\u001b[0m \u001b[43mshutil\u001b[49m\u001b[38;5;241;43m.\u001b[39;49m\u001b[43mmove\u001b[49m\u001b[43m(\u001b[49m\u001b[43mdataset_path\u001b[49m\u001b[43m,\u001b[49m\u001b[43m \u001b[49m\u001b[43mdataset_name\u001b[49m\u001b[38;5;241;43m+\u001b[39;49m\u001b[38;5;124;43m'\u001b[39;49m\u001b[38;5;124;43m_split\u001b[39;49m\u001b[38;5;124;43m'\u001b[39;49m\u001b[43m)\u001b[49m\n",
      "File \u001b[1;32mD:\\anaconda3\\envs\\pytorch\\lib\\shutil.py:799\u001b[0m, in \u001b[0;36mmove\u001b[1;34m(src, dst, copy_function)\u001b[0m\n\u001b[0;32m    797\u001b[0m \u001b[38;5;28;01melif\u001b[39;00m os\u001b[38;5;241m.\u001b[39mpath\u001b[38;5;241m.\u001b[39misdir(src):\n\u001b[0;32m    798\u001b[0m     \u001b[38;5;28;01mif\u001b[39;00m _destinsrc(src, dst):\n\u001b[1;32m--> 799\u001b[0m         \u001b[38;5;28;01mraise\u001b[39;00m Error(\u001b[38;5;124m\"\u001b[39m\u001b[38;5;124mCannot move a directory \u001b[39m\u001b[38;5;124m'\u001b[39m\u001b[38;5;132;01m%s\u001b[39;00m\u001b[38;5;124m'\u001b[39m\u001b[38;5;124m into itself\u001b[39m\u001b[38;5;124m\"\u001b[39m\n\u001b[0;32m    800\u001b[0m                     \u001b[38;5;124m\"\u001b[39m\u001b[38;5;124m \u001b[39m\u001b[38;5;124m'\u001b[39m\u001b[38;5;132;01m%s\u001b[39;00m\u001b[38;5;124m'\u001b[39m\u001b[38;5;124m.\u001b[39m\u001b[38;5;124m\"\u001b[39m \u001b[38;5;241m%\u001b[39m (src, dst))\n\u001b[0;32m    801\u001b[0m     \u001b[38;5;28;01mif\u001b[39;00m (_is_immutable(src)\n\u001b[0;32m    802\u001b[0m             \u001b[38;5;129;01mor\u001b[39;00m (\u001b[38;5;129;01mnot\u001b[39;00m os\u001b[38;5;241m.\u001b[39maccess(src, os\u001b[38;5;241m.\u001b[39mW_OK) \u001b[38;5;129;01mand\u001b[39;00m os\u001b[38;5;241m.\u001b[39mlistdir(src)\n\u001b[0;32m    803\u001b[0m                 \u001b[38;5;129;01mand\u001b[39;00m sys\u001b[38;5;241m.\u001b[39mplatform \u001b[38;5;241m==\u001b[39m \u001b[38;5;124m'\u001b[39m\u001b[38;5;124mdarwin\u001b[39m\u001b[38;5;124m'\u001b[39m)):\n\u001b[0;32m    804\u001b[0m         \u001b[38;5;28;01mraise\u001b[39;00m \u001b[38;5;167;01mPermissionError\u001b[39;00m(\u001b[38;5;124m\"\u001b[39m\u001b[38;5;124mCannot move the non-empty directory \u001b[39m\u001b[38;5;124m\"\u001b[39m\n\u001b[0;32m    805\u001b[0m                               \u001b[38;5;124m\"\u001b[39m\u001b[38;5;124m'\u001b[39m\u001b[38;5;132;01m%s\u001b[39;00m\u001b[38;5;124m'\u001b[39m\u001b[38;5;124m: Lacking write permission to \u001b[39m\u001b[38;5;124m'\u001b[39m\u001b[38;5;132;01m%s\u001b[39;00m\u001b[38;5;124m'\u001b[39m\u001b[38;5;124m.\u001b[39m\u001b[38;5;124m\"\u001b[39m\n\u001b[0;32m    806\u001b[0m                               \u001b[38;5;241m%\u001b[39m (src, src))\n",
      "\u001b[1;31mError\u001b[0m: Cannot move a directory 'C:/Users/liFangzheng/Desktop/embryo/' into itself 'C:/Users/liFangzheng/Desktop/embryo/_split'."
     ]
    }
   ],
   "source": [
    "df = pd.DataFrame()\n",
    "print('{:^18} {:^18} {:^18}'.format('class', 'train_data_num', 'val_data_num'))\n",
    "\n",
    "for fruit in classes: \n",
    "\n",
    "   \n",
    "    old_dir = os.path.join(dataset_path, fruit)\n",
    "    images_filename = os.listdir(old_dir)\n",
    "    random.shuffle(images_filename) \n",
    "\n",
    "    \n",
    "    testset_numer = int(len(images_filename) * test_frac) \n",
    "    testset_images = images_filename[:testset_numer]      \n",
    "    trainset_images = images_filename[testset_numer:]     \n",
    "\n",
    "   \n",
    "    for image in testset_images:\n",
    "        old_img_path = os.path.join(dataset_path, fruit, image)        \n",
    "        new_test_path = os.path.join(dataset_path, 'val', fruit, image) \n",
    "        shutil.move(old_img_path, new_test_path) \n",
    "\n",
    "   \n",
    "    for image in trainset_images:\n",
    "        old_img_path = os.path.join(dataset_path, fruit, image)           \n",
    "        new_train_path = os.path.join(dataset_path, 'train', fruit, image) \n",
    "        shutil.move(old_img_path, new_train_path) \n",
    "    \n",
    "   \n",
    "    assert len(os.listdir(old_dir)) == 0 \n",
    "    shutil.rmtree(old_dir) \n",
    "    \n",
    "  \n",
    "    print('{:^18} {:^18} {:^18}'.format(fruit, len(trainset_images), len(testset_images)))\n",
    "    \n",
    "   \n",
    "shutil.move(dataset_path, dataset_name+'_split')\n",
    "\n"
   ]
  },
  {
   "cell_type": "code",
   "execution_count": null,
   "id": "00a9c342",
   "metadata": {
    "id": "00a9c342"
   },
   "outputs": [],
   "source": [
    "#!find . -iname '.ipynb_checkpoints'"
   ]
  },
  {
   "cell_type": "code",
   "execution_count": null,
   "id": "8ae39950",
   "metadata": {
    "id": "8ae39950"
   },
   "outputs": [],
   "source": [
    "#!for i in `find . -iname '.ipynb_checkpoints'`; do rm -rf $i;done"
   ]
  },
  {
   "cell_type": "code",
   "execution_count": null,
   "id": "c1d34461",
   "metadata": {
    "id": "c1d34461"
   },
   "outputs": [],
   "source": [
    "#!find . -iname '.ipynb_checkpoints'"
   ]
  },
  {
   "cell_type": "code",
   "execution_count": null,
   "id": "4b06bc10",
   "metadata": {
    "id": "4b06bc10"
   },
   "outputs": [],
   "source": [
    "#!find . -iname '__MACOSX'"
   ]
  },
  {
   "cell_type": "code",
   "execution_count": null,
   "id": "11220181",
   "metadata": {
    "id": "11220181"
   },
   "outputs": [],
   "source": [
    "#!for i in `find . -iname '.ipynb_checkpoints'`; do rm -rf $i;done"
   ]
  },
  {
   "cell_type": "code",
   "execution_count": null,
   "id": "a548f7c5",
   "metadata": {
    "id": "a548f7c5"
   },
   "outputs": [],
   "source": [
    "#!find . -iname '.ipynb_checkpoints'"
   ]
  },
  {
   "cell_type": "code",
   "execution_count": 16,
   "id": "def5a97b",
   "metadata": {
    "colab": {
     "base_uri": "https://localhost:8080/",
     "height": 206
    },
    "id": "def5a97b",
    "outputId": "48996f35-183e-4dd8-d23f-67f93f5dda13"
   },
   "outputs": [
    {
     "data": {
      "text/html": [
       "<div>\n",
       "<style scoped>\n",
       "    .dataframe tbody tr th:only-of-type {\n",
       "        vertical-align: middle;\n",
       "    }\n",
       "\n",
       "    .dataframe tbody tr th {\n",
       "        vertical-align: top;\n",
       "    }\n",
       "\n",
       "    .dataframe thead th {\n",
       "        text-align: right;\n",
       "    }\n",
       "</style>\n",
       "<table border=\"1\" class=\"dataframe\">\n",
       "  <thead>\n",
       "    <tr style=\"text-align: right;\">\n",
       "      <th></th>\n",
       "    </tr>\n",
       "  </thead>\n",
       "  <tbody>\n",
       "  </tbody>\n",
       "</table>\n",
       "</div>"
      ],
      "text/plain": [
       "Empty DataFrame\n",
       "Columns: []\n",
       "Index: []"
      ]
     },
     "execution_count": 16,
     "metadata": {},
     "output_type": "execute_result"
    }
   ],
   "source": [
    "df"
   ]
  },
  {
   "cell_type": "code",
   "execution_count": null,
   "id": "a4ad9d9b",
   "metadata": {
    "id": "a4ad9d9b"
   },
   "outputs": [],
   "source": []
  }
 ],
 "metadata": {
  "colab": {
   "provenance": []
  },
  "kernelspec": {
   "display_name": "Python 3 (ipykernel)",
   "language": "python",
   "name": "python3"
  },
  "language_info": {
   "codemirror_mode": {
    "name": "ipython",
    "version": 3
   },
   "file_extension": ".py",
   "mimetype": "text/x-python",
   "name": "python",
   "nbconvert_exporter": "python",
   "pygments_lexer": "ipython3",
   "version": "3.8.16"
  }
 },
 "nbformat": 4,
 "nbformat_minor": 5
}
